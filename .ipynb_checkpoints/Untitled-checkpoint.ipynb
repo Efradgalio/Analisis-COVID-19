{
 "cells": [
  {
   "cell_type": "code",
   "execution_count": 1,
   "metadata": {
    "ExecuteTime": {
     "end_time": "2020-04-28T03:11:57.113849Z",
     "start_time": "2020-04-28T03:11:53.382318Z"
    }
   },
   "outputs": [],
   "source": [
    "import pandas as pd\n",
    "import numpy as np"
   ]
  },
  {
   "cell_type": "code",
   "execution_count": 2,
   "metadata": {
    "ExecuteTime": {
     "end_time": "2020-04-28T03:11:57.145088Z",
     "start_time": "2020-04-28T03:11:57.113849Z"
    }
   },
   "outputs": [
    {
     "name": "stdout",
     "output_type": "stream",
     "text": [
      " Volume in drive C is Acer\n",
      " Volume Serial Number is BCC6-CC82\n",
      "\n",
      " Directory of C:\\Users\\user\\Data-Science\\EventLomba\\Analisis-COVID-19\n",
      "\n",
      "28/04/2020  10:11    <DIR>          .\n",
      "28/04/2020  10:11    <DIR>          ..\n",
      "28/04/2020  10:11    <DIR>          .ipynb_checkpoints\n",
      "28/04/2020  10:10    <DIR>          Data\n",
      "28/04/2020  10:10                87 README.md\n",
      "28/04/2020  10:11                72 Untitled.ipynb\n",
      "               2 File(s)            159 bytes\n",
      "               4 Dir(s)  336.120.680.448 bytes free\n"
     ]
    }
   ],
   "source": [
    "!dir"
   ]
  },
  {
   "cell_type": "code",
   "execution_count": 3,
   "metadata": {
    "ExecuteTime": {
     "end_time": "2020-04-28T03:12:14.344195Z",
     "start_time": "2020-04-28T03:12:14.313635Z"
    }
   },
   "outputs": [],
   "source": [
    "!cd Data"
   ]
  },
  {
   "cell_type": "code",
   "execution_count": 4,
   "metadata": {
    "ExecuteTime": {
     "end_time": "2020-04-28T03:12:17.702787Z",
     "start_time": "2020-04-28T03:12:17.671545Z"
    }
   },
   "outputs": [
    {
     "name": "stdout",
     "output_type": "stream",
     "text": [
      " Volume in drive C is Acer\n",
      " Volume Serial Number is BCC6-CC82\n",
      "\n",
      " Directory of C:\\Users\\user\\Data-Science\\EventLomba\\Analisis-COVID-19\n",
      "\n",
      "28/04/2020  10:11    <DIR>          .\n",
      "28/04/2020  10:11    <DIR>          ..\n",
      "28/04/2020  10:11    <DIR>          .ipynb_checkpoints\n",
      "28/04/2020  10:10    <DIR>          Data\n",
      "28/04/2020  10:10                87 README.md\n",
      "28/04/2020  10:11                72 Untitled.ipynb\n",
      "               2 File(s)            159 bytes\n",
      "               4 Dir(s)  336.122.195.968 bytes free\n"
     ]
    }
   ],
   "source": [
    "!dir"
   ]
  },
  {
   "cell_type": "code",
   "execution_count": 6,
   "metadata": {
    "ExecuteTime": {
     "end_time": "2020-04-28T03:14:02.913761Z",
     "start_time": "2020-04-28T03:14:02.882028Z"
    }
   },
   "outputs": [],
   "source": [
    "gpp_country = pd.read_csv(\"Data/GDP_Country.csv\")\n",
    "mitigation_type = pd.read_csv(\"Data/mitigation_type.csv\")\n",
    "suppression = pd.read_csv(\"Data/suppression.csv\")"
   ]
  },
  {
   "cell_type": "code",
   "execution_count": 7,
   "metadata": {
    "ExecuteTime": {
     "end_time": "2020-04-28T03:14:11.451855Z",
     "start_time": "2020-04-28T03:14:11.420856Z"
    }
   },
   "outputs": [
    {
     "data": {
      "text/html": [
       "<div>\n",
       "<style scoped>\n",
       "    .dataframe tbody tr th:only-of-type {\n",
       "        vertical-align: middle;\n",
       "    }\n",
       "\n",
       "    .dataframe tbody tr th {\n",
       "        vertical-align: top;\n",
       "    }\n",
       "\n",
       "    .dataframe thead th {\n",
       "        text-align: right;\n",
       "    }\n",
       "</style>\n",
       "<table border=\"1\" class=\"dataframe\">\n",
       "  <thead>\n",
       "    <tr style=\"text-align: right;\">\n",
       "      <th></th>\n",
       "      <th>Region, subregion, country or area *</th>\n",
       "      <th>country_code</th>\n",
       "      <th>World Bank region</th>\n",
       "      <th>World Bank income grou</th>\n",
       "      <th>GDP 2018</th>\n",
       "    </tr>\n",
       "  </thead>\n",
       "  <tbody>\n",
       "    <tr>\n",
       "      <td>0</td>\n",
       "      <td>Afghanistan</td>\n",
       "      <td>AFG</td>\n",
       "      <td>South Asia</td>\n",
       "      <td>Low income</td>\n",
       "      <td>1955.006208</td>\n",
       "    </tr>\n",
       "    <tr>\n",
       "      <td>1</td>\n",
       "      <td>Albania</td>\n",
       "      <td>ALB</td>\n",
       "      <td>Europe &amp; Central Asia</td>\n",
       "      <td>Upper middle income</td>\n",
       "      <td>13364.155400</td>\n",
       "    </tr>\n",
       "    <tr>\n",
       "      <td>2</td>\n",
       "      <td>Algeria</td>\n",
       "      <td>DZA</td>\n",
       "      <td>Middle East &amp; North Africa</td>\n",
       "      <td>Upper middle income</td>\n",
       "      <td>15481.787620</td>\n",
       "    </tr>\n",
       "    <tr>\n",
       "      <td>3</td>\n",
       "      <td>Angola</td>\n",
       "      <td>AGO</td>\n",
       "      <td>Sub-Saharan Africa</td>\n",
       "      <td>Lower middle income</td>\n",
       "      <td>6452.355165</td>\n",
       "    </tr>\n",
       "    <tr>\n",
       "      <td>4</td>\n",
       "      <td>Antigua and Barbuda</td>\n",
       "      <td>ATG</td>\n",
       "      <td>Latin America &amp; Caribbean</td>\n",
       "      <td>High income</td>\n",
       "      <td>26868.133520</td>\n",
       "    </tr>\n",
       "  </tbody>\n",
       "</table>\n",
       "</div>"
      ],
      "text/plain": [
       "  Region, subregion, country or area * country_code  \\\n",
       "0                          Afghanistan          AFG   \n",
       "1                              Albania          ALB   \n",
       "2                              Algeria          DZA   \n",
       "3                               Angola          AGO   \n",
       "4                  Antigua and Barbuda          ATG   \n",
       "\n",
       "            World Bank region World Bank income grou      GDP 2018  \n",
       "0                  South Asia             Low income   1955.006208  \n",
       "1       Europe & Central Asia    Upper middle income  13364.155400  \n",
       "2  Middle East & North Africa    Upper middle income  15481.787620  \n",
       "3          Sub-Saharan Africa    Lower middle income   6452.355165  \n",
       "4   Latin America & Caribbean            High income  26868.133520  "
      ]
     },
     "execution_count": 7,
     "metadata": {},
     "output_type": "execute_result"
    }
   ],
   "source": [
    "gpp_country.head()"
   ]
  },
  {
   "cell_type": "code",
   "execution_count": 8,
   "metadata": {
    "ExecuteTime": {
     "end_time": "2020-04-28T03:14:30.393788Z",
     "start_time": "2020-04-28T03:14:30.378222Z"
    }
   },
   "outputs": [
    {
     "data": {
      "text/html": [
       "<div>\n",
       "<style scoped>\n",
       "    .dataframe tbody tr th:only-of-type {\n",
       "        vertical-align: middle;\n",
       "    }\n",
       "\n",
       "    .dataframe tbody tr th {\n",
       "        vertical-align: top;\n",
       "    }\n",
       "\n",
       "    .dataframe thead th {\n",
       "        text-align: right;\n",
       "    }\n",
       "</style>\n",
       "<table border=\"1\" class=\"dataframe\">\n",
       "  <thead>\n",
       "    <tr style=\"text-align: right;\">\n",
       "      <th></th>\n",
       "      <th>Country</th>\n",
       "      <th>R0</th>\n",
       "      <th>Strategy</th>\n",
       "      <th>Social_distance</th>\n",
       "      <th>total_pop</th>\n",
       "      <th>total_infected</th>\n",
       "      <th>total_deaths</th>\n",
       "      <th>total_hospital</th>\n",
       "      <th>total_critical</th>\n",
       "    </tr>\n",
       "  </thead>\n",
       "  <tbody>\n",
       "    <tr>\n",
       "      <td>0</td>\n",
       "      <td>Afghanistan</td>\n",
       "      <td>2.4</td>\n",
       "      <td>Enhanced social distancing of elderly</td>\n",
       "      <td>34%</td>\n",
       "      <td>38928341</td>\n",
       "      <td>22235810</td>\n",
       "      <td>42015</td>\n",
       "      <td>342532</td>\n",
       "      <td>55701</td>\n",
       "    </tr>\n",
       "    <tr>\n",
       "      <td>1</td>\n",
       "      <td>Afghanistan</td>\n",
       "      <td>2.7</td>\n",
       "      <td>Enhanced social distancing of elderly</td>\n",
       "      <td>38%</td>\n",
       "      <td>38928341</td>\n",
       "      <td>24001697</td>\n",
       "      <td>46456</td>\n",
       "      <td>371943</td>\n",
       "      <td>61587</td>\n",
       "    </tr>\n",
       "    <tr>\n",
       "      <td>2</td>\n",
       "      <td>Afghanistan</td>\n",
       "      <td>3.0</td>\n",
       "      <td>Enhanced social distancing of elderly</td>\n",
       "      <td>44%</td>\n",
       "      <td>38928341</td>\n",
       "      <td>25058690</td>\n",
       "      <td>57529</td>\n",
       "      <td>414970</td>\n",
       "      <td>76266</td>\n",
       "    </tr>\n",
       "    <tr>\n",
       "      <td>3</td>\n",
       "      <td>Afghanistan</td>\n",
       "      <td>3.3</td>\n",
       "      <td>Enhanced social distancing of elderly</td>\n",
       "      <td>47%</td>\n",
       "      <td>38928341</td>\n",
       "      <td>26214010</td>\n",
       "      <td>60640</td>\n",
       "      <td>434649</td>\n",
       "      <td>80429</td>\n",
       "    </tr>\n",
       "    <tr>\n",
       "      <td>4</td>\n",
       "      <td>Afghanistan</td>\n",
       "      <td>2.4</td>\n",
       "      <td>Social distancing whole population</td>\n",
       "      <td>37%</td>\n",
       "      <td>38928341</td>\n",
       "      <td>21576989</td>\n",
       "      <td>55929</td>\n",
       "      <td>378738</td>\n",
       "      <td>74147</td>\n",
       "    </tr>\n",
       "  </tbody>\n",
       "</table>\n",
       "</div>"
      ],
      "text/plain": [
       "       Country   R0                               Strategy Social_distance  \\\n",
       "0  Afghanistan  2.4  Enhanced social distancing of elderly             34%   \n",
       "1  Afghanistan  2.7  Enhanced social distancing of elderly             38%   \n",
       "2  Afghanistan  3.0  Enhanced social distancing of elderly             44%   \n",
       "3  Afghanistan  3.3  Enhanced social distancing of elderly             47%   \n",
       "4  Afghanistan  2.4     Social distancing whole population             37%   \n",
       "\n",
       "   total_pop  total_infected  total_deaths  total_hospital  total_critical  \n",
       "0   38928341        22235810         42015          342532           55701  \n",
       "1   38928341        24001697         46456          371943           61587  \n",
       "2   38928341        25058690         57529          414970           76266  \n",
       "3   38928341        26214010         60640          434649           80429  \n",
       "4   38928341        21576989         55929          378738           74147  "
      ]
     },
     "execution_count": 8,
     "metadata": {},
     "output_type": "execute_result"
    }
   ],
   "source": [
    "mitigation_type.head()"
   ]
  },
  {
   "cell_type": "code",
   "execution_count": 9,
   "metadata": {
    "ExecuteTime": {
     "end_time": "2020-04-28T03:15:12.655590Z",
     "start_time": "2020-04-28T03:15:12.624890Z"
    }
   },
   "outputs": [
    {
     "data": {
      "text/html": [
       "<div>\n",
       "<style scoped>\n",
       "    .dataframe tbody tr th:only-of-type {\n",
       "        vertical-align: middle;\n",
       "    }\n",
       "\n",
       "    .dataframe tbody tr th {\n",
       "        vertical-align: top;\n",
       "    }\n",
       "\n",
       "    .dataframe thead th {\n",
       "        text-align: right;\n",
       "    }\n",
       "</style>\n",
       "<table border=\"1\" class=\"dataframe\">\n",
       "  <thead>\n",
       "    <tr style=\"text-align: right;\">\n",
       "      <th></th>\n",
       "      <th>Country</th>\n",
       "      <th>R0</th>\n",
       "      <th>Strategy</th>\n",
       "      <th>Social_distance</th>\n",
       "      <th>Deaths per week at trigger</th>\n",
       "      <th>total_pop</th>\n",
       "      <th>total_infected</th>\n",
       "      <th>total_deaths</th>\n",
       "      <th>total_hospital</th>\n",
       "      <th>peak_hospital_bed_demand</th>\n",
       "      <th>total_critical</th>\n",
       "      <th>peak_critical_bed_demand</th>\n",
       "    </tr>\n",
       "  </thead>\n",
       "  <tbody>\n",
       "    <tr>\n",
       "      <td>0</td>\n",
       "      <td>Afghanistan</td>\n",
       "      <td>3</td>\n",
       "      <td>Unmitigated</td>\n",
       "      <td>0.75</td>\n",
       "      <td>NaN</td>\n",
       "      <td>38928341</td>\n",
       "      <td>36140196</td>\n",
       "      <td>76973</td>\n",
       "      <td>567916</td>\n",
       "      <td>240272</td>\n",
       "      <td>102693</td>\n",
       "      <td>39621</td>\n",
       "    </tr>\n",
       "    <tr>\n",
       "      <td>1</td>\n",
       "      <td>Albania</td>\n",
       "      <td>3</td>\n",
       "      <td>Unmitigated</td>\n",
       "      <td>0.75</td>\n",
       "      <td>NaN</td>\n",
       "      <td>2877800</td>\n",
       "      <td>2464424</td>\n",
       "      <td>19300</td>\n",
       "      <td>97298</td>\n",
       "      <td>36061</td>\n",
       "      <td>25569</td>\n",
       "      <td>8024</td>\n",
       "    </tr>\n",
       "    <tr>\n",
       "      <td>2</td>\n",
       "      <td>Algeria</td>\n",
       "      <td>3</td>\n",
       "      <td>Unmitigated</td>\n",
       "      <td>0.75</td>\n",
       "      <td>NaN</td>\n",
       "      <td>43851043</td>\n",
       "      <td>38824343</td>\n",
       "      <td>191145</td>\n",
       "      <td>1118956</td>\n",
       "      <td>459923</td>\n",
       "      <td>253553</td>\n",
       "      <td>90068</td>\n",
       "    </tr>\n",
       "    <tr>\n",
       "      <td>3</td>\n",
       "      <td>Angola</td>\n",
       "      <td>3</td>\n",
       "      <td>Unmitigated</td>\n",
       "      <td>0.75</td>\n",
       "      <td>NaN</td>\n",
       "      <td>32866268</td>\n",
       "      <td>30110663</td>\n",
       "      <td>57385</td>\n",
       "      <td>438605</td>\n",
       "      <td>183326</td>\n",
       "      <td>75970</td>\n",
       "      <td>29050</td>\n",
       "    </tr>\n",
       "    <tr>\n",
       "      <td>4</td>\n",
       "      <td>Antigua and Barbuda</td>\n",
       "      <td>3</td>\n",
       "      <td>Unmitigated</td>\n",
       "      <td>0.75</td>\n",
       "      <td>NaN</td>\n",
       "      <td>97928</td>\n",
       "      <td>84247</td>\n",
       "      <td>504</td>\n",
       "      <td>2795</td>\n",
       "      <td>1048</td>\n",
       "      <td>667</td>\n",
       "      <td>215</td>\n",
       "    </tr>\n",
       "  </tbody>\n",
       "</table>\n",
       "</div>"
      ],
      "text/plain": [
       "               Country  R0     Strategy  Social_distance  \\\n",
       "0          Afghanistan   3  Unmitigated             0.75   \n",
       "1              Albania   3  Unmitigated             0.75   \n",
       "2              Algeria   3  Unmitigated             0.75   \n",
       "3               Angola   3  Unmitigated             0.75   \n",
       "4  Antigua and Barbuda   3  Unmitigated             0.75   \n",
       "\n",
       "   Deaths per week at trigger  total_pop  total_infected  total_deaths  \\\n",
       "0                         NaN   38928341        36140196         76973   \n",
       "1                         NaN    2877800         2464424         19300   \n",
       "2                         NaN   43851043        38824343        191145   \n",
       "3                         NaN   32866268        30110663         57385   \n",
       "4                         NaN      97928           84247           504   \n",
       "\n",
       "   total_hospital  peak_hospital_bed_demand  total_critical  \\\n",
       "0          567916                    240272          102693   \n",
       "1           97298                     36061           25569   \n",
       "2         1118956                    459923          253553   \n",
       "3          438605                    183326           75970   \n",
       "4            2795                      1048             667   \n",
       "\n",
       "   peak_critical_bed_demand  \n",
       "0                     39621  \n",
       "1                      8024  \n",
       "2                     90068  \n",
       "3                     29050  \n",
       "4                       215  "
      ]
     },
     "execution_count": 9,
     "metadata": {},
     "output_type": "execute_result"
    }
   ],
   "source": [
    "suppression.head()"
   ]
  },
  {
   "cell_type": "code",
   "execution_count": null,
   "metadata": {},
   "outputs": [],
   "source": []
  }
 ],
 "metadata": {
  "kernelspec": {
   "display_name": "Python 3",
   "language": "python",
   "name": "python3"
  },
  "language_info": {
   "codemirror_mode": {
    "name": "ipython",
    "version": 3
   },
   "file_extension": ".py",
   "mimetype": "text/x-python",
   "name": "python",
   "nbconvert_exporter": "python",
   "pygments_lexer": "ipython3",
   "version": "3.7.4"
  },
  "toc": {
   "base_numbering": 1,
   "nav_menu": {},
   "number_sections": true,
   "sideBar": true,
   "skip_h1_title": false,
   "title_cell": "Table of Contents",
   "title_sidebar": "Contents",
   "toc_cell": false,
   "toc_position": {},
   "toc_section_display": true,
   "toc_window_display": false
  }
 },
 "nbformat": 4,
 "nbformat_minor": 2
}
